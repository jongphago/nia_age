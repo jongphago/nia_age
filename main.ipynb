{
 "cells": [
  {
   "cell_type": "code",
   "execution_count": 5,
   "metadata": {},
   "outputs": [],
   "source": [
    "import random\n",
    "import numpy as np\n",
    "import torch\n"
   ]
  },
  {
   "cell_type": "code",
   "execution_count": 6,
   "metadata": {},
   "outputs": [],
   "source": [
    "from main_ae import AgeModel\n",
    "from main_ae import START_AGE, END_AGE, NUM_AGE_GROUPS\n"
   ]
  },
  {
   "cell_type": "code",
   "execution_count": 7,
   "metadata": {},
   "outputs": [],
   "source": [
    "NUM_AGE_GROUPS = 9\n",
    "VALIDATION_RATE = 0.1\n",
    "num_ages = END_AGE - START_AGE + 1\n"
   ]
  },
  {
   "cell_type": "code",
   "execution_count": 8,
   "metadata": {},
   "outputs": [
    {
     "data": {
      "text/plain": [
       "<torch._C.Generator at 0x7f70b5da8530>"
      ]
     },
     "execution_count": 8,
     "metadata": {},
     "output_type": "execute_result"
    }
   ],
   "source": [
    "random.seed(2019)\n",
    "np.random.seed(2019)\n",
    "torch.manual_seed(2019)\n"
   ]
  },
  {
   "attachments": {},
   "cell_type": "markdown",
   "metadata": {},
   "source": [
    "# AIHub dataset\n"
   ]
  },
  {
   "cell_type": "code",
   "execution_count": 9,
   "metadata": {},
   "outputs": [],
   "source": [
    "import json\n",
    "import pandas as pd"
   ]
  },
  {
   "cell_type": "code",
   "execution_count": 64,
   "metadata": {},
   "outputs": [],
   "source": [
    "from fpt.data import join_face_df\n",
    "from fpt.path import DTFR\n",
    "\n",
    "DATA_CATEGORY = \"aihub_family\"\n",
    "face_df = join_face_df(DTFR, DATA_CATEGORY)"
   ]
  },
  {
   "cell_type": "code",
   "execution_count": 65,
   "metadata": {},
   "outputs": [],
   "source": [
    "# Age\n",
    "age_df = pd.read_csv(\"/home/jupyter/data/dataframe/df_aihub_ages.csv\", index_col=0)\n",
    "face_df = face_df.join(age_df, on=\"target\")\n",
    "\n",
    "# Age group\n",
    "ages = face_df[face_df.category == \"Age\"]\n",
    "age_group_df = ages.key.str.split('_').map(lambda x: x[-1][0]).to_frame(name=\"age_group\")\n",
    "face_df = face_df.join(age_group_df)\n",
    "\n",
    "# Update age\n",
    "face_df.loc[age_group_df.index, \"age\"] = None"
   ]
  },
  {
   "cell_type": "code",
   "execution_count": 66,
   "metadata": {},
   "outputs": [],
   "source": [
    "RANGE_TO_MEDIAN = {\n",
    "    \"a\": (1 + 6) / 2,\n",
    "    \"b\": (7 + 12) / 2,\n",
    "    \"c\": (13 + 19) / 2,\n",
    "    \"d\": (20 + 30) / 2,\n",
    "    \"e\": (31 + 45) / 2,\n",
    "    \"f\": (46 + 55) / 2,\n",
    "    \"g\": (56 + 66) / 2,\n",
    "    \"h\": (67 + 80) / 2,\n",
    "    \"above\": 90,\n",
    "}\n",
    "AGE_GROUPS = [\"a\", \"b\", \"c\", \"d\", \"e\", \"f\", \"g\", \"h\", \"above\"]\n",
    "\n",
    "\n",
    "def age_to_age_groups(age):\n",
    "    if age <= 6:\n",
    "        return \"a\"\n",
    "    if age <= 12:\n",
    "        return \"b\"\n",
    "    if age <= 19:\n",
    "        return \"c\"\n",
    "    if age <= 30:\n",
    "        return \"d\"\n",
    "    if age <= 45:\n",
    "        return \"e\"\n",
    "    if age <= 55:\n",
    "        return \"f\"\n",
    "    if age <= 66:\n",
    "        return \"g\"\n",
    "    if age <= 80:\n",
    "        return \"h\"\n",
    "    return \"above\""
   ]
  },
  {
   "cell_type": "code",
   "execution_count": 67,
   "metadata": {},
   "outputs": [],
   "source": [
    "# age\n",
    "is_age_null = face_df['age'].isnull()\n",
    "range_to_age = face_df.loc[is_age_null, 'age_group'].map(lambda x: RANGE_TO_MEDIAN[x])\n",
    "face_df.loc[is_age_null, 'age'] = range_to_age"
   ]
  },
  {
   "cell_type": "code",
   "execution_count": 69,
   "metadata": {},
   "outputs": [],
   "source": [
    "# age group\n",
    "is_age_group_null = face_df['age_group'].isnull()\n",
    "age_groups = face_df.loc[is_age_group_null, 'age'].map(lambda x: age_to_age_groups(int(x)))\n",
    "face_df.loc[is_age_group_null, 'age_group'] = age_groups"
   ]
  },
  {
   "cell_type": "code",
   "execution_count": 71,
   "metadata": {},
   "outputs": [
    {
     "name": "stdout",
     "output_type": "stream",
     "text": [
      "<class 'pandas.core.frame.DataFrame'>\n",
      "Index: 109468 entries, 391fc9e5-eadd-4896-ab0c-61dffd9ab09c to afb1179b-d620-43c0-bad2-3660d9d73d60\n",
      "Data columns (total 13 columns):\n",
      " #   Column         Non-Null Count   Dtype  \n",
      "---  ------         --------------   -----  \n",
      " 0   key            109468 non-null  object \n",
      " 1   label          109468 non-null  object \n",
      " 2   image          109468 non-null  object \n",
      " 3   category       109468 non-null  object \n",
      " 4   option         109456 non-null  float64\n",
      " 5   data_category  109468 non-null  object \n",
      " 6   folder_name    109468 non-null  object \n",
      " 7   family_id      109468 non-null  object \n",
      " 8   personal_id    109468 non-null  object \n",
      " 9   path           109468 non-null  object \n",
      " 10  target         109468 non-null  object \n",
      " 11  age            109468 non-null  float64\n",
      " 12  age_group      109468 non-null  object \n",
      "dtypes: float64(2), object(11)\n",
      "memory usage: 15.7+ MB\n"
     ]
    }
   ],
   "source": [
    "face_df.info()"
   ]
  },
  {
   "attachments": {},
   "cell_type": "markdown",
   "metadata": {},
   "source": [
    "# Model\n"
   ]
  },
  {
   "cell_type": "code",
   "execution_count": null,
   "metadata": {},
   "outputs": [],
   "source": [
    "model = AgeModel(num_ages, NUM_AGE_GROUPS)  # age_pred, age_group_pred"
   ]
  },
  {
   "attachments": {},
   "cell_type": "markdown",
   "metadata": {},
   "source": [
    "# Dataloader\n"
   ]
  },
  {
   "cell_type": "code",
   "execution_count": 17,
   "metadata": {},
   "outputs": [],
   "source": [
    "from data import NiaDataset\n",
    "import numpy as np\n",
    "from PIL import Image\n",
    "import os\n"
   ]
  },
  {
   "cell_type": "code",
   "execution_count": 18,
   "metadata": {},
   "outputs": [],
   "source": [
    "from torch.utils.data import Dataset, DataLoader\n",
    "import torchvision\n"
   ]
  },
  {
   "cell_type": "code",
   "execution_count": 19,
   "metadata": {},
   "outputs": [],
   "source": [
    "train_meta_path = \"nia_cropped/train_0.npy\"\n",
    "test_meta_path = \"nia_cropped/test_0.npy\"\n"
   ]
  },
  {
   "cell_type": "code",
   "execution_count": 20,
   "metadata": {},
   "outputs": [],
   "source": [
    "batch_size = 16\n"
   ]
  },
  {
   "attachments": {},
   "cell_type": "markdown",
   "metadata": {},
   "source": [
    "## NiaDataset\n"
   ]
  },
  {
   "attachments": {},
   "cell_type": "markdown",
   "metadata": {},
   "source": [
    "### Train dataloader\n"
   ]
  },
  {
   "cell_type": "code",
   "execution_count": 21,
   "metadata": {},
   "outputs": [],
   "source": [
    "transforms_train = torchvision.transforms.Compose(\n",
    "    [\n",
    "        torchvision.transforms.ToPILImage(),\n",
    "        torchvision.transforms.RandomApply(\n",
    "            [\n",
    "                torchvision.transforms.RandomAffine(degrees=10, shear=16),\n",
    "                torchvision.transforms.RandomHorizontalFlip(p=1.0),\n",
    "            ],\n",
    "            p=0.5,\n",
    "        ),\n",
    "        torchvision.transforms.Resize((256, 256)),\n",
    "        torchvision.transforms.RandomCrop((224, 224)),\n",
    "        torchvision.transforms.ToTensor(),\n",
    "    ]\n",
    ")\n"
   ]
  },
  {
   "cell_type": "code",
   "execution_count": 22,
   "metadata": {},
   "outputs": [],
   "source": [
    "train_gen = NiaDataset(train_meta_path, transforms_train)\n"
   ]
  },
  {
   "cell_type": "code",
   "execution_count": 23,
   "metadata": {},
   "outputs": [],
   "source": [
    "train_loader = DataLoader(\n",
    "    dataset=train_gen,\n",
    "    batch_size=batch_size,\n",
    "    shuffle=True,\n",
    "    pin_memory=True,\n",
    "    num_workers=0,\n",
    ")\n"
   ]
  },
  {
   "cell_type": "code",
   "execution_count": 24,
   "metadata": {},
   "outputs": [],
   "source": [
    "train_iter = iter(train_loader)\n"
   ]
  },
  {
   "cell_type": "code",
   "execution_count": 25,
   "metadata": {},
   "outputs": [
    {
     "data": {
      "text/plain": [
       "dict_keys(['image', 'age', 'age_class', 'file', 'data_type', 'family_id', 'personal_id'])"
      ]
     },
     "execution_count": 25,
     "metadata": {},
     "output_type": "execute_result"
    }
   ],
   "source": [
    "sample = next(train_iter)\n",
    "sample.keys()\n"
   ]
  },
  {
   "cell_type": "code",
   "execution_count": 26,
   "metadata": {},
   "outputs": [
    {
     "name": "stdout",
     "output_type": "stream",
     "text": [
      "image:\ttensor([[[0.8627, 0.8627, 0.8627,  ..., 0.0784, 0.0824, 0.0863],\n",
      "         [0.8627, 0.8667, 0.8667,  ..., 0.0902, 0.0902, 0.0902],\n",
      "         [0.8627, 0.8667, 0.8706,  ..., 0.0980, 0.0941, 0.0863],\n",
      "         ...,\n",
      "         [0.8588, 0.8549, 0.8510,  ..., 0.5373, 0.5294, 0.5216],\n",
      "         [0.8627, 0.8588, 0.8549,  ..., 0.5333, 0.5294, 0.5255],\n",
      "         [0.8549, 0.8510, 0.8510,  ..., 0.5373, 0.5333, 0.5294]],\n",
      "\n",
      "        [[0.8353, 0.8314, 0.8275,  ..., 0.0627, 0.0627, 0.0667],\n",
      "         [0.8353, 0.8314, 0.8314,  ..., 0.0706, 0.0706, 0.0706],\n",
      "         [0.8353, 0.8353, 0.8353,  ..., 0.0784, 0.0745, 0.0667],\n",
      "         ...,\n",
      "         [0.8235, 0.8235, 0.8235,  ..., 0.2980, 0.2902, 0.2824],\n",
      "         [0.8314, 0.8275, 0.8275,  ..., 0.2941, 0.2902, 0.2863],\n",
      "         [0.8235, 0.8196, 0.8235,  ..., 0.2980, 0.2941, 0.2902]],\n",
      "\n",
      "        [[0.8000, 0.8000, 0.8000,  ..., 0.0510, 0.0549, 0.0588],\n",
      "         [0.8039, 0.8039, 0.8039,  ..., 0.0588, 0.0588, 0.0588],\n",
      "         [0.8039, 0.8078, 0.8078,  ..., 0.0667, 0.0627, 0.0549],\n",
      "         ...,\n",
      "         [0.7882, 0.7922, 0.7922,  ..., 0.2275, 0.2196, 0.2118],\n",
      "         [0.7961, 0.7961, 0.7961,  ..., 0.2235, 0.2196, 0.2157],\n",
      "         [0.7882, 0.7882, 0.7922,  ..., 0.2275, 0.2235, 0.2196]]])\n",
      "age:\t76\n",
      "age_class:\t7\n",
      "file:\tF0115_IND_FGM_76_-90_04.JPG\n",
      "data_type:\tkinship\n",
      "family_id:\tF0115\n",
      "personal_id:\tF0115-FGM\n"
     ]
    }
   ],
   "source": [
    "for key in sample.keys():\n",
    "    print(f\"{key}:\\t{sample[key][0]}\")"
   ]
  },
  {
   "cell_type": "code",
   "execution_count": 27,
   "metadata": {},
   "outputs": [
    {
     "data": {
      "text/plain": [
       "uuid\n",
       "391fc9e5-eadd-4896-ab0c-61dffd9ab09c        F0001_AGE_D_18_a1\n",
       "bf42518e-8415-4247-820f-77439018f31d        F0001_AGE_D_18_a2\n",
       "98f0b57c-7a24-423f-b77c-82ed5719c6f4        F0001_AGE_D_18_a3\n",
       "18779095-36e6-4b5d-8181-7a3860c8f012        F0001_AGE_D_18_a4\n",
       "5d7928c2-72f8-412c-8762-835abaea8b00        F0001_AGE_D_18_b1\n",
       "                                                ...          \n",
       "949028f3-9157-4800-8e52-31a5c85a875c    F0900_IND_M_57_-90_02\n",
       "377e54be-0e2f-4a27-8bf3-92b29ea68cad    F0900_IND_M_57_-45_02\n",
       "91e72b0c-2d49-45ae-a208-b7d26e658c14      F0900_IND_M_57_0_02\n",
       "a5fa8816-5d76-41d3-a32a-69c691bc18e9     F0900_IND_M_57_45_02\n",
       "afb1179b-d620-43c0-bad2-3660d9d73d60     F0900_IND_M_57_90_02\n",
       "Name: key, Length: 109468, dtype: object"
      ]
     },
     "execution_count": 27,
     "metadata": {},
     "output_type": "execute_result"
    }
   ],
   "source": [
    "face_df.key"
   ]
  },
  {
   "cell_type": "code",
   "execution_count": 28,
   "metadata": {},
   "outputs": [
    {
     "data": {
      "text/plain": [
       "False"
      ]
     },
     "execution_count": 28,
     "metadata": {},
     "output_type": "execute_result"
    }
   ],
   "source": [
    "idx = 1\n",
    "file_name, _ = os.path.splitext(sample['file'][idx])\n",
    "file_name in face_df.key"
   ]
  },
  {
   "attachments": {},
   "cell_type": "markdown",
   "metadata": {},
   "source": [
    "### Validation dataloader\n"
   ]
  },
  {
   "cell_type": "code",
   "execution_count": 29,
   "metadata": {},
   "outputs": [],
   "source": [
    "transforms = torchvision.transforms.Compose(\n",
    "    [\n",
    "        torchvision.transforms.ToPILImage(),\n",
    "        torchvision.transforms.Resize((224, 224)),\n",
    "        torchvision.transforms.ToTensor(),\n",
    "    ]\n",
    ")\n",
    "val_gen = NiaDataset(test_meta_path, transforms)\n",
    "val_loader = DataLoader(\n",
    "    val_gen, batch_size=1, shuffle=False, pin_memory=True, num_workers=0\n",
    ")\n"
   ]
  },
  {
   "attachments": {},
   "cell_type": "markdown",
   "metadata": {},
   "source": [
    "# Optimizer\n"
   ]
  },
  {
   "cell_type": "code",
   "execution_count": null,
   "metadata": {},
   "outputs": [],
   "source": [
    "from torch import optim\n",
    "import torch\n",
    "from torch.optim import lr_scheduler\n"
   ]
  },
  {
   "cell_type": "code",
   "execution_count": null,
   "metadata": {},
   "outputs": [],
   "source": [
    "LAMBDA_1 = 0.2\n",
    "LAMBDA_2 = 0.05\n",
    "START_AGE = 0\n",
    "END_AGE = 90\n",
    "learning_rate = 1e-3\n",
    "epoch = 2\n"
   ]
  },
  {
   "cell_type": "code",
   "execution_count": null,
   "metadata": {},
   "outputs": [],
   "source": [
    "optimizer = optim.Adam(model.parameters(), lr=learning_rate)\n",
    "scheduler = lr_scheduler.MultiStepLR(optimizer, milestones=[5, 8, 9], gamma=0.1)\n"
   ]
  },
  {
   "attachments": {},
   "cell_type": "markdown",
   "metadata": {},
   "source": [
    "# Loss function\n"
   ]
  },
  {
   "cell_type": "code",
   "execution_count": null,
   "metadata": {},
   "outputs": [],
   "source": [
    "from mean_variance_loss import MeanVarianceLoss\n"
   ]
  },
  {
   "cell_type": "code",
   "execution_count": null,
   "metadata": {},
   "outputs": [],
   "source": [
    "criterion1 = MeanVarianceLoss(LAMBDA_1, LAMBDA_2, START_AGE, END_AGE).cuda\n",
    "criterion2 = torch.nn.CrossEntropyLoss().cuda()\n"
   ]
  },
  {
   "attachments": {},
   "cell_type": "markdown",
   "metadata": {},
   "source": [
    "# Train\n"
   ]
  },
  {
   "cell_type": "code",
   "execution_count": null,
   "metadata": {},
   "outputs": [],
   "source": [
    "from main_ae import train_softmax, evaluate_softmax\n"
   ]
  },
  {
   "cell_type": "code",
   "execution_count": null,
   "metadata": {},
   "outputs": [],
   "source": [
    "def train_softmax(train_loader, model, criterion2, optimizer, epoch, result_directory):\n",
    "    model.cuda().train()\n",
    "    running_loss = 0.0\n",
    "    running_softmax_loss = 0.0\n",
    "    interval = 1\n",
    "    for i, sample in enumerate(train_loader):\n",
    "        images = sample[\"image\"].cuda()\n",
    "        labels = sample[\"age_class\"].cuda()\n",
    "        _, output = model(images)\n",
    "        loss = criterion2(output, labels)\n",
    "        optimizer.zero_grad()\n",
    "        loss.backward()\n",
    "        optimizer.step()\n",
    "        running_loss += loss.data\n",
    "        if (i + 1) % interval == 0:\n",
    "            print(\"[%d, %5d] loss: %.3f\" % (epoch, i, running_loss / interval))\n",
    "            with open(os.path.join(result_directory, \"log\"), \"a\") as f:\n",
    "                f.write(\"[%d, %5d] loss: %.3f\\n\" % (epoch, i, running_loss / interval))\n",
    "            running_loss = 0.0\n"
   ]
  },
  {
   "cell_type": "code",
   "execution_count": null,
   "metadata": {},
   "outputs": [],
   "source": [
    "for epoch in range(2):\n",
    "    break\n",
    "    train_softmax(train_loader, model, criterion2, optimizer, epoch, \"result\")\n",
    "    loss_val, mae = evaluate_softmax(val_loader, model, criterion2)\n",
    "    scheduler.step()\n"
   ]
  },
  {
   "cell_type": "code",
   "execution_count": null,
   "metadata": {},
   "outputs": [],
   "source": [
    "# loss_val, mae\n"
   ]
  },
  {
   "attachments": {},
   "cell_type": "markdown",
   "metadata": {},
   "source": [
    "# Custom\n"
   ]
  },
  {
   "cell_type": "code",
   "execution_count": null,
   "metadata": {},
   "outputs": [],
   "source": [
    "from torch import nn\n",
    "from nia_age.main_ae import Embedding, AgeClassifier\n"
   ]
  },
  {
   "cell_type": "code",
   "execution_count": null,
   "metadata": {},
   "outputs": [],
   "source": [
    "model = nn.Sequential(Embedding(), AgeClassifier(num_ages, NUM_AGE_GROUPS))\n",
    "model = model.cuda()\n"
   ]
  },
  {
   "cell_type": "code",
   "execution_count": null,
   "metadata": {},
   "outputs": [],
   "source": [
    "images = sample[\"image\"]\n",
    "images = images.cuda()\n"
   ]
  },
  {
   "cell_type": "code",
   "execution_count": null,
   "metadata": {},
   "outputs": [],
   "source": [
    "pred_age, pred_age_group = model(images)\n",
    "pred_age.shape, pred_age_group.shape\n"
   ]
  },
  {
   "attachments": {},
   "cell_type": "markdown",
   "metadata": {},
   "source": [
    "## Face Recognition\n"
   ]
  },
  {
   "cell_type": "code",
   "execution_count": null,
   "metadata": {},
   "outputs": [],
   "source": [
    "from arcface_torch.losses import CombinedMarginLoss\n",
    "from arcface_torch.configs.aihub_r50_onegpu import config as aihub_config\n",
    "from arcface_torch.configs.base import config as cfg\n",
    "\n",
    "cfg.update(aihub_config)\n",
    "cfg.output = \"work_dirs/aihub_r50_onegpu\""
   ]
  },
  {
   "cell_type": "code",
   "execution_count": null,
   "metadata": {},
   "outputs": [],
   "source": [
    "margin_loss = CombinedMarginLoss(\n",
    "    64,\n",
    "    cfg.margin_list[0],\n",
    "    cfg.margin_list[1],\n",
    "    cfg.margin_list[2],\n",
    "    cfg.interclass_filtering_threshold,\n",
    ")"
   ]
  },
  {
   "attachments": {},
   "cell_type": "markdown",
   "metadata": {},
   "source": [
    "## AIHubDataset"
   ]
  },
  {
   "cell_type": "code",
   "execution_count": 30,
   "metadata": {},
   "outputs": [],
   "source": [
    "from facenet.datasets.AIHubDataset import AIHubDataset\n",
    "from torchvision.datasets import ImageFolder"
   ]
  },
  {
   "cell_type": "code",
   "execution_count": 32,
   "metadata": {},
   "outputs": [],
   "source": [
    "root_dir = '/home/jupyter/data/face-image/train_aihub_family'\n",
    "image_size = 112\n",
    "aihub_mean = [0.5444, 0.4335, 0.3800]\n",
    "aihub_std = [0.2672, 0.2295, 0.2156]\n",
    "transform = torchvision.transforms.Compose(\n",
    "    [\n",
    "        torchvision.transforms.Resize(size=(image_size, image_size)),\n",
    "        torchvision.transforms.RandomHorizontalFlip(),\n",
    "        torchvision.transforms.ToTensor(),\n",
    "        torchvision.transforms.Normalize(mean=aihub_mean, std=aihub_std),\n",
    "    ]\n",
    ")"
   ]
  },
  {
   "cell_type": "code",
   "execution_count": 33,
   "metadata": {},
   "outputs": [
    {
     "data": {
      "text/plain": [
       "(tensor([[[ 1.4849e+00,  1.4996e+00,  1.4996e+00,  ...,  1.4849e+00,\n",
       "            1.4996e+00,  1.4849e+00],\n",
       "          [ 1.4996e+00,  1.4996e+00,  1.5143e+00,  ...,  1.4849e+00,\n",
       "            1.4849e+00,  1.4996e+00],\n",
       "          [ 1.5290e+00,  1.5290e+00,  1.5436e+00,  ...,  1.5143e+00,\n",
       "            1.5143e+00,  1.5290e+00],\n",
       "          ...,\n",
       "          [-7.0770e-02, -3.2027e-01, -3.9365e-01,  ..., -7.8992e-01,\n",
       "            4.5759e-01,  5.8967e-01],\n",
       "          [ 1.7289e-02, -1.5883e-01, -7.0770e-02,  ..., -8.1927e-01,\n",
       "            3.1082e-01,  5.7500e-01],\n",
       "          [ 2.6126e-03,  1.7289e-02, -7.0770e-02,  ..., -9.0733e-01,\n",
       "            1.3470e-01,  3.9888e-01]],\n",
       " \n",
       "         [[ 2.2463e+00,  2.2634e+00,  2.2804e+00,  ...,  2.2463e+00,\n",
       "            2.2634e+00,  2.2463e+00],\n",
       "          [ 2.2634e+00,  2.2634e+00,  2.2804e+00,  ...,  2.2463e+00,\n",
       "            2.2463e+00,  2.2634e+00],\n",
       "          [ 2.2804e+00,  2.2975e+00,  2.2975e+00,  ...,  2.2634e+00,\n",
       "            2.2804e+00,  2.2804e+00],\n",
       "          ...,\n",
       "          [ 1.1034e-01, -2.1432e-01, -3.5102e-01,  ..., -3.5102e-01,\n",
       "            1.2894e+00,  1.4773e+00],\n",
       "          [ 7.6167e-02, -1.6306e-01, -1.1179e-01,  ..., -4.7063e-01,\n",
       "            1.0502e+00,  1.4773e+00],\n",
       "          [ 7.8176e-03, -9.2699e-03, -1.6306e-01,  ..., -6.2442e-01,\n",
       "            7.2549e-01,  1.2381e+00]],\n",
       " \n",
       "         [[ 2.5847e+00,  2.6029e+00,  2.5847e+00,  ...,  2.5847e+00,\n",
       "            2.6029e+00,  2.5847e+00],\n",
       "          [ 2.6029e+00,  2.6029e+00,  2.5847e+00,  ...,  2.5847e+00,\n",
       "            2.5847e+00,  2.6029e+00],\n",
       "          [ 2.6392e+00,  2.6574e+00,  2.6392e+00,  ...,  2.6210e+00,\n",
       "            2.6210e+00,  2.6392e+00],\n",
       "          ...,\n",
       "          [-1.6188e-01, -5.4385e-01, -7.2574e-01,  ..., -4.5291e-01,\n",
       "            1.3842e+00,  1.6388e+00],\n",
       "          [-3.2558e-01, -5.9842e-01, -5.6204e-01,  ..., -5.0748e-01,\n",
       "            1.1114e+00,  1.5843e+00],\n",
       "          [-4.8929e-01, -5.2566e-01, -6.5299e-01,  ..., -6.5299e-01,\n",
       "            8.0214e-01,  1.3660e+00]]]),\n",
       " 0)"
      ]
     },
     "execution_count": 33,
     "metadata": {},
     "output_type": "execute_result"
    }
   ],
   "source": [
    "train_set = ImageFolder(root_dir, transform)\n",
    "next(iter(train_set))"
   ]
  },
  {
   "attachments": {},
   "cell_type": "markdown",
   "metadata": {},
   "source": [
    "## Multi task Dataset\n"
   ]
  },
  {
   "cell_type": "code",
   "execution_count": 34,
   "metadata": {},
   "outputs": [],
   "source": [
    "import torch\n",
    "from torch.utils.data import Dataset\n",
    "from torchvision.datasets import ImageFolder\n",
    "from torchvision.transforms import transforms\n",
    "from easydict import EasyDict as edict"
   ]
  },
  {
   "cell_type": "code",
   "execution_count": 35,
   "metadata": {},
   "outputs": [],
   "source": [
    "class FaceAgeDataset(Dataset):\n",
    "    def __init__(self, root_dir, face_df, transform=None):\n",
    "        self.face_dataset = ImageFolder(root=root_dir, transform=transform)\n",
    "        self.face_df = face_df\n",
    "        self.class_to_idx = self.face_dataset.class_to_idx\n",
    "\n",
    "    def __len__(self):\n",
    "        return len(self.face_dataset)\n",
    "\n",
    "    def __getitem__(self, index):\n",
    "        image, face_label = self.face_dataset[index]\n",
    "        path, _ = self.face_dataset.samples[index]\n",
    "        *_, key = os.path.splitext(path)[0].split(\"/\")\n",
    "        row = self.face_df.loc[key]\n",
    "        age, age_group = row.age, row.age_group\n",
    "        family_id, target = row.family_id, row.target\n",
    "        sample = edict({\n",
    "            \"image\": image,\n",
    "            \"age\": age,\n",
    "            \"age_class\": age_group,\n",
    "            \"file\": path,\n",
    "            \"data_type\": None,\n",
    "            \"family_id\": family_id,\n",
    "            \"personal_id\": self.class_to_idx[target],\n",
    "            \"key\": key,\n",
    "        })\n",
    "\n",
    "        return sample"
   ]
  },
  {
   "cell_type": "code",
   "execution_count": 72,
   "metadata": {},
   "outputs": [],
   "source": [
    "root_dir = \"/home/jupyter/data/face-image/train_aihub_family\"\n",
    "face_age_dataset = FaceAgeDataset(root_dir, face_df)\n",
    "iterator = iter(face_age_dataset)"
   ]
  },
  {
   "cell_type": "code",
   "execution_count": 167,
   "metadata": {},
   "outputs": [
    {
     "name": "stdout",
     "output_type": "stream",
     "text": [
      "image: <PIL.Image.Image image mode=RGB size=783x783 at 0x7F703C9944D0>\n",
      "age: 75.0\n",
      "age_class: h\n",
      "file: /home/jupyter/data/face-image/train_aihub_family/F0001-GM/d2e77ffa-8278-46a0-9f23-ffad8abcca7d.jpg\n",
      "data_type: None\n",
      "family_id: F0001\n",
      "personal_id: 1\n",
      "key: d2e77ffa-8278-46a0-9f23-ffad8abcca7d\n"
     ]
    },
    {
     "data": {
      "image/png": "[encoded data removed]",
      "text/plain": [
       "<PIL.Image.Image image mode=RGB size=80x80>"
      ]
     },
     "execution_count": 167,
     "metadata": {},
     "output_type": "execute_result"
    }
   ],
   "source": [
    "sample = next(iterator)\n",
    "[print(f\"{k}: {v}\") for k, v in sample.items()]\n",
    "sample.image.resize((80, 80))"
   ]
  },
  {
   "attachments": {},
   "cell_type": "markdown",
   "metadata": {},
   "source": [
    "## Face Recognition loss\n"
   ]
  },
  {
   "cell_type": "code",
   "execution_count": null,
   "metadata": {},
   "outputs": [],
   "source": [
    "from torch.nn.functional import linear, normalize\n"
   ]
  },
  {
   "cell_type": "code",
   "execution_count": null,
   "metadata": {},
   "outputs": [],
   "source": [
    "labels = labels.view(-1, 1)\n",
    "norm_embeddings = normalize(embeddings)\n",
    "norm_weight_activated = normalize(weight)\n",
    "logits = linear(norm_embeddings, norm_weight_activated)\n",
    "logits = logits.clamp(-1, 1)\n"
   ]
  }
 ],
 "metadata": {
  "kernelspec": {
   "display_name": "face",
   "language": "python",
   "name": "python3"
  },
  "language_info": {
   "codemirror_mode": {
    "name": "ipython",
    "version": 3
   },
   "file_extension": ".py",
   "mimetype": "text/x-python",
   "name": "python",
   "nbconvert_exporter": "python",
   "pygments_lexer": "ipython3",
   "version": "3.7.12"
  },
  "orig_nbformat": 4
 },
 "nbformat": 4,
 "nbformat_minor": 2
}
